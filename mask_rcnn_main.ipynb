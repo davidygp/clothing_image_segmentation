{
 "cells": [
  {
   "cell_type": "markdown",
   "metadata": {
    "colab_type": "text",
    "id": "ySXBYw2vO5m9"
   },
   "source": [
    "# Set up for the Environment (Local/ Google Colab)"
   ]
  },
  {
   "cell_type": "code",
   "execution_count": null,
   "metadata": {
    "colab": {
     "base_uri": "https://localhost:8080/",
     "height": 34
    },
    "colab_type": "code",
    "executionInfo": {
     "elapsed": 1100,
     "status": "ok",
     "timestamp": 1587281321101,
     "user": {
      "displayName": "David Yam",
      "photoUrl": "",
      "userId": "17421691779838404913"
     },
     "user_tz": -480
    },
    "id": "l5N4nm_9Qlet",
    "outputId": "de20f199-b992-47c4-8e2d-ad2fe6e05939"
   },
   "outputs": [],
   "source": [
    "try: \n",
    "    from google.colab import drive\n",
    "    drive.mount('/content/drive')\n",
    "    in_google_colab = True\n",
    "\n",
    "    print(\"The following versions are required: Tensorfow < 2.0.0 and Keras == 2.2.4.\")\n",
    "    print(\"There might be a few restarts in this section if you're running on Google Colab\")\n",
    "except:\n",
    "    in_google_colab = False"
   ]
  },
  {
   "cell_type": "code",
   "execution_count": null,
   "metadata": {
    "colab": {
     "base_uri": "https://localhost:8080/",
     "height": 51
    },
    "colab_type": "code",
    "executionInfo": {
     "elapsed": 1985,
     "status": "ok",
     "timestamp": 1587281322490,
     "user": {
      "displayName": "David Yam",
      "photoUrl": "",
      "userId": "17421691779838404913"
     },
     "user_tz": -480
    },
    "id": "Pt-df_yOSfrf",
    "outputId": "5c17117c-e332-4ce3-ec56-244d8dcd65c3"
   },
   "outputs": [],
   "source": [
    "# Checking Tensorflow Version\n",
    "if in_google_colab == True:\n",
    "    %tensorflow_version 1.x\n",
    "\n",
    "import tensorflow as tf\n",
    "if in_google_colab == True and int(tf.__version__.split(\"-\")[0][0]) == 2:\n",
    "    print(\"We need the Tensorflow version to be < 2.0.0 for compatibility issues\")\n",
    "\n",
    "    print(\"Do reset the runtime after we close it\")\n",
    "    import os\n",
    "    os.kill(os.getpid(), 9)\n",
    "print('Tensorflow version is {}'.format(tf.__version__))"
   ]
  },
  {
   "cell_type": "code",
   "execution_count": null,
   "metadata": {
    "colab": {
     "base_uri": "https://localhost:8080/",
     "height": 34
    },
    "colab_type": "code",
    "executionInfo": {
     "elapsed": 1524,
     "status": "ok",
     "timestamp": 1587281322491,
     "user": {
      "displayName": "David Yam",
      "photoUrl": "",
      "userId": "17421691779838404913"
     },
     "user_tz": -480
    },
    "id": "xyZh2vRkTpGW",
    "outputId": "c4ce5c39-cdc7-4b67-da21-6f4f750b0847"
   },
   "outputs": [],
   "source": [
    "# Checking if there is a GPU\n",
    "device_name = tf.test.gpu_device_name()\n",
    "if device_name != '/device:GPU:0':\n",
    "    raise SystemError('GPU device not found')\n",
    "print('Found GPU at: {}'.format(device_name))"
   ]
  },
  {
   "cell_type": "code",
   "execution_count": null,
   "metadata": {
    "colab": {
     "base_uri": "https://localhost:8080/",
     "height": 68
    },
    "colab_type": "code",
    "executionInfo": {
     "elapsed": 799,
     "status": "ok",
     "timestamp": 1587281322491,
     "user": {
      "displayName": "David Yam",
      "photoUrl": "",
      "userId": "17421691779838404913"
     },
     "user_tz": -480
    },
    "id": "2BelPM73qf_J",
    "outputId": "967e8a55-f132-4feb-eb8b-e9e5da6196db"
   },
   "outputs": [],
   "source": [
    "# Checking Keras Version\n",
    "import keras\n",
    "keras_version = keras.__version__\n",
    "print('Keras version is {}'.format(keras_version))\n",
    "\n",
    "if keras_version != '2.2.4':\n",
    "    print(\"We need the Keras version to be 2.2.4 for compatibility issues\")\n",
    "\n",
    "    print(\"Downloading and installing Keras 2.2.4\")\n",
    "    print(\"Do reset the runtime after we close it\")\n",
    "    !pip install q keras==2.2.4\n",
    "    \n",
    "    import os\n",
    "    os.kill(os.getpid(), 9)\n",
    "\n",
    "else:\n",
    "    print(\"Keras version is 2.2.4, as required.\")"
   ]
  },
  {
   "cell_type": "code",
   "execution_count": null,
   "metadata": {
    "colab": {
     "base_uri": "https://localhost:8080/",
     "height": 1000
    },
    "colab_type": "code",
    "executionInfo": {
     "elapsed": 30823,
     "status": "ok",
     "timestamp": 1587281353389,
     "user": {
      "displayName": "David Yam",
      "photoUrl": "",
      "userId": "17421691779838404913"
     },
     "user_tz": -480
    },
    "id": "HdVUjwlMf_vq",
    "outputId": "c4bd44de-3e5a-46f3-b7b7-11e931e6f443"
   },
   "outputs": [],
   "source": [
    "if in_google_colab:\n",
    "    print(\"Currently in google colab, unpacking the files\")\n",
    "    !rm -r /content/mask_rcnn_envir\n",
    "    !unzip /content/drive/'My Drive'/colab_notebooks/mask_rcnn_envir.zip  -d /content\n",
    "    %cd mask_rcnn_envir/\n",
    "else:\n",
    "    print(\"Not in google colab\")\n",
    "    \n",
    "    import os\n",
    "    if os.path.isdir(\"./mask_rcnn_envir\") is False:\n",
    "        print(\"Folder is still zipped, unzipping it now.\")\n",
    "        import zipfile\n",
    "        with zipfile.ZipFile(\"./mask_rcnn_envir.zip\", \"r\") as zip_ref:\n",
    "            zip_ref.extractall()\n",
    "    else: \n",
    "        print(\"Folder is already unzipped.\")\n",
    "    %cd mask_rcnn_envir/\n",
    "    \n",
    "    # Seems this piece of code is required, if not my GPU will freeze\n",
    "    def get_session():\n",
    "        config = tf.ConfigProto()\n",
    "        config.gpu_options.allow_growth = True\n",
    "        return tf.Session(config=config)\n",
    "\n",
    "    keras.backend.tensorflow_backend.set_session(get_session())"
   ]
  },
  {
   "cell_type": "markdown",
   "metadata": {
    "colab_type": "text",
    "id": "gK3-8-ioO5nK"
   },
   "source": [
    "# Import the required libraries"
   ]
  },
  {
   "cell_type": "code",
   "execution_count": null,
   "metadata": {
    "colab": {},
    "colab_type": "code",
    "id": "E2VUHI7Qgvvk"
   },
   "outputs": [],
   "source": [
    "from mask_rcnn_v2 import Config, MaskRCNN, buildMASKRCNN, Dataset, CocoLikeDataset, display_top_masks, display_instances, load_image_gt, mold_image, compute_ap, log\n",
    "import numpy as np\n",
    "from numpy import zeros\n",
    "from numpy import asarray\n",
    "import colorsys\n",
    "import argparse\n",
    "import imutils\n",
    "import random\n",
    "import cv2\n",
    "import os\n",
    "import time\n",
    "import json\n",
    "from PIL import Image, ImageDraw\n",
    "from matplotlib import pyplot\n",
    "import matplotlib.pyplot as plt\n",
    "from matplotlib.patches import Rectangle\n",
    "from keras.models import load_model\n",
    "\n",
    "#from os import listdir\n",
    "#from xml.etree import ElementTree\n",
    "\n",
    "#from pycocotools import mask as maskUtils\n",
    "\n",
    "from imgaug import augmenters as iaa\n",
    "\n",
    "import pandas as pd\n",
    "\n",
    "%matplotlib inline"
   ]
  },
  {
   "cell_type": "markdown",
   "metadata": {
    "colab_type": "text",
    "id": "8ThCiziHO5nM"
   },
   "source": [
    "# Set up the config/ load the dataset"
   ]
  },
  {
   "cell_type": "code",
   "execution_count": null,
   "metadata": {
    "colab": {},
    "colab_type": "code",
    "id": "LgFkofPXgXqH"
   },
   "outputs": [],
   "source": [
    "class myMaskRCNNConfig(Config):\n",
    "    NAME = 'MaskRCNN_config'\n",
    "    \n",
    "    GPU_COUNT = 1\n",
    "    IMAGES_PER_GPU = 1\n",
    "    \n",
    "    NUM_CLASSES = 3 + 1\n",
    "    \n",
    "    STEPS_PER_EPOCH = 131\n",
    "\n",
    "    IMAGE_MIN_DIM = 512\n",
    "    IMAGE_MAX_DIM = 512     \n",
    "\n",
    "    BACKBONE = 'resnet101'                       \n",
    "\n",
    "    RPN_ANCHOR_SCALES = (16, 32, 64, 128, 256) \n",
    "    \n",
    "    RPN_NMS_THRESHOLD = 0.8\n",
    "\n",
    "    DETECTION_MIN_CONFIDENCE = 0.7"
   ]
  },
  {
   "cell_type": "code",
   "execution_count": null,
   "metadata": {
    "colab": {},
    "colab_type": "code",
    "id": "beRUvGYegpJR"
   },
   "outputs": [],
   "source": [
    "config = myMaskRCNNConfig()"
   ]
  },
  {
   "cell_type": "code",
   "execution_count": null,
   "metadata": {
    "colab": {
     "base_uri": "https://localhost:8080/",
     "height": 901
    },
    "colab_type": "code",
    "executionInfo": {
     "elapsed": 1901,
     "status": "ok",
     "timestamp": 1587281410082,
     "user": {
      "displayName": "David Yam",
      "photoUrl": "",
      "userId": "17421691779838404913"
     },
     "user_tz": -480
    },
    "id": "BzKmPywyg19o",
    "outputId": "82008f50-2386-4ecd-bf79-d265202a7024"
   },
   "outputs": [],
   "source": [
    "config.display()"
   ]
  },
  {
   "cell_type": "code",
   "execution_count": null,
   "metadata": {
    "colab": {
     "base_uri": "https://localhost:8080/",
     "height": 85
    },
    "colab_type": "code",
    "executionInfo": {
     "elapsed": 1719,
     "status": "ok",
     "timestamp": 1587281410082,
     "user": {
      "displayName": "David Yam",
      "photoUrl": "",
      "userId": "17421691779838404913"
     },
     "user_tz": -480
    },
    "id": "DkGDFGpeg-SW",
    "outputId": "fd4bbfec-7f20-49e0-b8bf-663dad266e6b"
   },
   "outputs": [],
   "source": [
    "dataset_train = CocoLikeDataset()\n",
    "dataset_train.load_data('./annotations/instances_openimagev5tococo_train2020.json', './openimagev5tococo_train2020')\n",
    "dataset_train.prepare()"
   ]
  },
  {
   "cell_type": "code",
   "execution_count": null,
   "metadata": {
    "colab": {
     "base_uri": "https://localhost:8080/",
     "height": 85
    },
    "colab_type": "code",
    "executionInfo": {
     "elapsed": 1536,
     "status": "ok",
     "timestamp": 1587281410083,
     "user": {
      "displayName": "David Yam",
      "photoUrl": "",
      "userId": "17421691779838404913"
     },
     "user_tz": -480
    },
    "id": "vj4PpH26-Imx",
    "outputId": "4b1ccd8d-bc38-4abb-e094-974c66e70062"
   },
   "outputs": [],
   "source": [
    "dataset_val = CocoLikeDataset()\n",
    "dataset_val.load_data('./annotations/instances_openimagev5tococo_val2020.json', './openimagev5tococo_val2020')\n",
    "dataset_val.prepare()"
   ]
  },
  {
   "cell_type": "code",
   "execution_count": null,
   "metadata": {
    "colab": {
     "base_uri": "https://localhost:8080/",
     "height": 34
    },
    "colab_type": "code",
    "executionInfo": {
     "elapsed": 1326,
     "status": "ok",
     "timestamp": 1587281410083,
     "user": {
      "displayName": "David Yam",
      "photoUrl": "",
      "userId": "17421691779838404913"
     },
     "user_tz": -480
    },
    "id": "CYA-4Lkv-av-",
    "outputId": "32b3e2f7-ed1e-46b3-8082-22c2284ef638"
   },
   "outputs": [],
   "source": [
    "dataset_train.class_names"
   ]
  },
  {
   "cell_type": "code",
   "execution_count": null,
   "metadata": {
    "colab": {
     "base_uri": "https://localhost:8080/",
     "height": 34
    },
    "colab_type": "code",
    "executionInfo": {
     "elapsed": 1114,
     "status": "ok",
     "timestamp": 1587281410083,
     "user": {
      "displayName": "David Yam",
      "photoUrl": "",
      "userId": "17421691779838404913"
     },
     "user_tz": -480
    },
    "id": "6bT42BFF-dlN",
    "outputId": "c489f160-6855-4945-dc44-91875285d411"
   },
   "outputs": [],
   "source": [
    "dataset_val.class_names"
   ]
  },
  {
   "cell_type": "code",
   "execution_count": null,
   "metadata": {
    "colab": {
     "base_uri": "https://localhost:8080/",
     "height": 617
    },
    "colab_type": "code",
    "executionInfo": {
     "elapsed": 4364,
     "status": "ok",
     "timestamp": 1587281413537,
     "user": {
      "displayName": "David Yam",
      "photoUrl": "",
      "userId": "17421691779838404913"
     },
     "user_tz": -480
    },
    "id": "AXSR7Hu1-f08",
    "outputId": "9deb1bc6-2e6a-4d18-a9a9-9def950555fc"
   },
   "outputs": [],
   "source": [
    "dataset = dataset_train\n",
    "image_ids = np.random.choice(dataset.image_ids, 4)\n",
    "for image_id in image_ids:\n",
    "    image = dataset.load_image(image_id)\n",
    "    mask, class_ids = dataset.load_mask(image_id)\n",
    "    display_top_masks(image, mask, class_ids, dataset.class_names)"
   ]
  },
  {
   "cell_type": "markdown",
   "metadata": {
    "colab_type": "text",
    "id": "WEkv0ty7_Xwa"
   },
   "source": [
    "# Do Image Augmentation on dataset"
   ]
  },
  {
   "cell_type": "code",
   "execution_count": null,
   "metadata": {
    "colab": {},
    "colab_type": "code",
    "id": "x3tDiMKN_bB8"
   },
   "outputs": [],
   "source": [
    "augmentation = iaa.Sequential([\n",
    "    #geometric transform\n",
    "    iaa.OneOf([ \n",
    "        iaa.Affine(\n",
    "            scale={'x': (0.98, 1.02), 'y': (0.98, 1.02)},\n",
    "            translate_percent={'x': (-0.05, 0.05), 'y': (-0.05, 0.05)}, #{'x': (-0.02, 0.02), 'y': (-0.04, 0.04)},\n",
    "            rotate=(-10, 10), #(-2, 2),\n",
    "            shear=(-5, 5), #(-1, 1),\n",
    "        ),\n",
    "        iaa.PiecewiseAffine(scale=(0.001, 0.025)),\n",
    "    ]),\n",
    "\n",
    "    #flip images left-right\n",
    "    iaa.Fliplr(0.35),\n",
    "    \n",
    "    #brightness or contrast\n",
    "    iaa.OneOf([\n",
    "        iaa.Multiply((0.8, 1.2)), #(0.9, 1.1)),\n",
    "        iaa.ContrastNormalization((0.8, 1.2)), #(0.9, 1.1)),\n",
    "    ]),\n",
    "    \n",
    "    #blur or sharpen\n",
    "    iaa.OneOf([\n",
    "        iaa.GaussianBlur(sigma=(0.0, 0.25)),\n",
    "        iaa.Sharpen(alpha=(0.0, 0.25)),\n",
    "    ]),\n",
    "])"
   ]
  },
  {
   "cell_type": "code",
   "execution_count": null,
   "metadata": {
    "colab": {
     "base_uri": "https://localhost:8080/",
     "height": 631
    },
    "colab_type": "code",
    "executionInfo": {
     "elapsed": 10695,
     "status": "ok",
     "timestamp": 1587281420589,
     "user": {
      "displayName": "David Yam",
      "photoUrl": "",
      "userId": "17421691779838404913"
     },
     "user_tz": -480
    },
    "id": "jxgCh-Jg_cqT",
    "outputId": "defc8e84-c15e-4524-8c8f-2c4b137d0dec"
   },
   "outputs": [],
   "source": [
    "#test on the last image of the loop\n",
    "imggrid = augmentation.draw_grid(image[:,:,0], cols=5, rows=2)\n",
    "plt.figure(figsize=(30, 12))\n",
    "_ = plt.imshow(imggrid[:,:,0], cmap='gray')"
   ]
  },
  {
   "cell_type": "markdown",
   "metadata": {
    "colab_type": "text",
    "id": "tKrg_Ey7_hsQ"
   },
   "source": [
    "# Do Transfer Learning  with Mask RCNN"
   ]
  },
  {
   "cell_type": "code",
   "execution_count": null,
   "metadata": {
    "colab": {
     "base_uri": "https://localhost:8080/",
     "height": 615
    },
    "colab_type": "code",
    "executionInfo": {
     "elapsed": 22835,
     "status": "ok",
     "timestamp": 1587281433325,
     "user": {
      "displayName": "David Yam",
      "photoUrl": "",
      "userId": "17421691779838404913"
     },
     "user_tz": -480
    },
    "id": "e95-p5RWAXLN",
    "outputId": "b0aeeda1-5096-410b-eb87-256d867ed6e8"
   },
   "outputs": [],
   "source": [
    "model = buildMASKRCNN(config=config, model_dir=\"./\")\n",
    "\n",
    "#exclude the last few layers from training for ResNet101\n",
    "#exclude the last layers is to match the number of classes in the new dataset\n",
    "model.load_weights('./mask_rcnn_coco.h5', \n",
    "                   by_name=True, \n",
    "                   exclude=[\"mrcnn_class_logits\", \"mrcnn_bbox_fc\",  \"mrcnn_bbox\", \"mrcnn_mask\"])"
   ]
  },
  {
   "cell_type": "code",
   "execution_count": null,
   "metadata": {
    "colab": {
     "base_uri": "https://localhost:8080/",
     "height": 1000
    },
    "colab_type": "code",
    "executionInfo": {
     "elapsed": 22473,
     "status": "ok",
     "timestamp": 1587281433325,
     "user": {
      "displayName": "David Yam",
      "photoUrl": "",
      "userId": "17421691779838404913"
     },
     "user_tz": -480
    },
    "id": "aSnAQ4kMCjOm",
    "outputId": "54a1febd-744f-466f-99f5-04e88588ad96"
   },
   "outputs": [],
   "source": [
    "model.keras_model.summary()"
   ]
  },
  {
   "cell_type": "code",
   "execution_count": null,
   "metadata": {
    "colab": {
     "base_uri": "https://localhost:8080/",
     "height": 972
    },
    "colab_type": "code",
    "executionInfo": {
     "elapsed": 181306,
     "status": "ok",
     "timestamp": 1587281592649,
     "user": {
      "displayName": "David Yam",
      "photoUrl": "",
      "userId": "17421691779838404913"
     },
     "user_tz": -480
    },
    "id": "PVVD97qdDuAh",
    "outputId": "d1f61371-63b9-4de9-ff94-800a8d91cdc8"
   },
   "outputs": [],
   "source": [
    "model.fit(dataset_train, dataset_val, \n",
    "            epochs=40, \n",
    "            learning_rate=config.LEARNING_RATE, \n",
    "            layers='heads',\n",
    "            augmentation=augmentation\n",
    "            )"
   ]
  },
  {
   "cell_type": "code",
   "execution_count": null,
   "metadata": {
    "colab": {},
    "colab_type": "code",
    "id": "4DqAaRSFDxr1"
   },
   "outputs": [],
   "source": [
    "history = model.keras_model.history.history"
   ]
  },
  {
   "cell_type": "code",
   "execution_count": null,
   "metadata": {
    "colab": {
     "base_uri": "https://localhost:8080/",
     "height": 1000
    },
    "colab_type": "code",
    "executionInfo": {
     "elapsed": 178152,
     "status": "ok",
     "timestamp": 1587281786808,
     "user": {
      "displayName": "David Yam",
      "photoUrl": "",
      "userId": "17421691779838404913"
     },
     "user_tz": -480
    },
    "id": "jn6hc_7QE0Ai",
    "outputId": "4dc4dd55-e71f-4577-c07e-ca52fe79bb0d"
   },
   "outputs": [],
   "source": [
    "# Fine Tune ALL layers\n",
    "model.fit(dataset_train, dataset_val, \n",
    "            epochs=60, \n",
    "            learning_rate=config.LEARNING_RATE, \n",
    "            layers='all',\n",
    "            augmentation=augmentation\n",
    "            )"
   ]
  },
  {
   "cell_type": "code",
   "execution_count": null,
   "metadata": {
    "colab": {},
    "colab_type": "code",
    "id": "HnAq8X66E3K-"
   },
   "outputs": [],
   "source": [
    "new_history = model.keras_model.history.history\n",
    "for k in new_history:\n",
    "    history[k] = history[k] + new_history[k]"
   ]
  },
  {
   "cell_type": "code",
   "execution_count": null,
   "metadata": {
    "colab": {
     "base_uri": "https://localhost:8080/",
     "height": 1000
    },
    "colab_type": "code",
    "executionInfo": {
     "elapsed": 288878,
     "status": "error",
     "timestamp": 1587281898546,
     "user": {
      "displayName": "David Yam",
      "photoUrl": "",
      "userId": "17421691779838404913"
     },
     "user_tz": -480
    },
    "id": "PkZ_RMwtO5nw",
    "outputId": "9a981d95-d0e2-4874-8e0f-67dbdb010953"
   },
   "outputs": [],
   "source": [
    "model.fit(dataset_train, dataset_val, \n",
    "            epochs=80, \n",
    "            learning_rate=config.LEARNING_RATE * 1e-1, \n",
    "            layers='all',\n",
    "            augmentation=augmentation\n",
    "            )"
   ]
  },
  {
   "cell_type": "code",
   "execution_count": null,
   "metadata": {
    "colab": {},
    "colab_type": "code",
    "id": "-7pK4e1hO5ny"
   },
   "outputs": [],
   "source": [
    "new_history = model.keras_model.history.history\n",
    "for k in new_history:\n",
    "    history[k] = history[k] + new_history[k]"
   ]
  },
  {
   "cell_type": "code",
   "execution_count": null,
   "metadata": {
    "colab": {},
    "colab_type": "code",
    "id": "bB8fuoatO5n1"
   },
   "outputs": [],
   "source": [
    "model.fit(dataset_train, dataset_val, \n",
    "            epochs=100, \n",
    "            learning_rate=config.LEARNING_RATE * 1e-2, \n",
    "            layers='all',\n",
    "            augmentation=augmentation\n",
    "            )"
   ]
  },
  {
   "cell_type": "code",
   "execution_count": null,
   "metadata": {
    "colab": {},
    "colab_type": "code",
    "id": "b99s6zIYO5n3"
   },
   "outputs": [],
   "source": [
    "new_history = model.keras_model.history.history\n",
    "for k in new_history:\n",
    "    history[k] = history[k] + new_history[k]"
   ]
  },
  {
   "cell_type": "code",
   "execution_count": null,
   "metadata": {
    "colab": {},
    "colab_type": "code",
    "id": "e954HGAvO5n4"
   },
   "outputs": [],
   "source": [
    "model.fit(dataset_train, dataset_val, \n",
    "            epochs=120, \n",
    "            learning_rate=config.LEARNING_RATE * 1e-3, \n",
    "            layers='all',\n",
    "            augmentation=augmentation\n",
    "            )"
   ]
  },
  {
   "cell_type": "code",
   "execution_count": null,
   "metadata": {
    "colab": {},
    "colab_type": "code",
    "id": "zf19G-NYO5n6"
   },
   "outputs": [],
   "source": [
    "new_history = model.keras_model.history.history\n",
    "for k in new_history:\n",
    "    history[k] = history[k] + new_history[k]"
   ]
  },
  {
   "cell_type": "code",
   "execution_count": null,
   "metadata": {
    "colab": {},
    "colab_type": "code",
    "id": "x-bewiCkE52t"
   },
   "outputs": [],
   "source": [
    "epochs = range(1, len(next(iter(history.values())))+1)\n",
    "pd.DataFrame(history, index=epochs)"
   ]
  },
  {
   "cell_type": "code",
   "execution_count": null,
   "metadata": {
    "colab": {},
    "colab_type": "code",
    "id": "fB5hzqetO5n-"
   },
   "outputs": [],
   "source": [
    "df = pd.DataFrame(history, index=epochs)\n",
    "df.to_csv('data.csv')\n",
    "!cp data.csv \"/content/drive/My Drive/\""
   ]
  },
  {
   "cell_type": "code",
   "execution_count": null,
   "metadata": {
    "colab": {},
    "colab_type": "code",
    "id": "fM_1UIKRFM7z"
   },
   "outputs": [],
   "source": [
    "plt.figure(figsize=(17,5))\n",
    "\n",
    "plt.subplot(131)\n",
    "plt.plot(epochs, history[\"loss\"], label=\"Train loss\")\n",
    "plt.plot(epochs, history[\"val_loss\"], label=\"Valid loss\")\n",
    "plt.legend()\n",
    "plt.subplot(132)\n",
    "plt.plot(epochs, history[\"mrcnn_class_loss\"], label=\"Train class loss\")\n",
    "plt.plot(epochs, history[\"val_mrcnn_class_loss\"], label=\"Valid class loss\")\n",
    "plt.legend()\n",
    "plt.subplot(133)\n",
    "plt.plot(epochs, history[\"mrcnn_bbox_loss\"], label=\"Train Bounding Box loss\")\n",
    "plt.plot(epochs, history[\"val_mrcnn_bbox_loss\"], label=\"Valid Bounding Box loss\")\n",
    "plt.legend()\n",
    "\n",
    "plt.show()"
   ]
  },
  {
   "cell_type": "code",
   "execution_count": null,
   "metadata": {
    "colab": {},
    "colab_type": "code",
    "id": "hLdUhpN9KDmD"
   },
   "outputs": [],
   "source": [
    "plt.figure(figsize=(17,5))\n",
    "\n",
    "plt.subplot(131)\n",
    "plt.plot(epochs, history[\"mrcnn_mask_loss\"], label=\"Train Mask loss\")\n",
    "plt.plot(epochs, history[\"val_mrcnn_mask_loss\"], label=\"Valid Mask loss\")\n",
    "plt.legend()\n",
    "plt.subplot(132)\n",
    "plt.plot(epochs, history[\"rpn_bbox_loss\"], label=\"Train PRN box loss\")\n",
    "plt.plot(epochs, history[\"val_rpn_bbox_loss\"], label=\"Valid RPN box loss\")\n",
    "plt.legend()\n",
    "plt.subplot(133)\n",
    "plt.plot(epochs, history[\"rpn_class_loss\"], label=\"Train RPN class loss\")\n",
    "plt.plot(epochs, history[\"val_rpn_class_loss\"], label=\"Valid PRN class loss\")\n",
    "plt.legend()\n",
    "\n",
    "plt.show()"
   ]
  },
  {
   "cell_type": "code",
   "execution_count": null,
   "metadata": {
    "colab": {},
    "colab_type": "code",
    "id": "oAhFDNWSO5oE"
   },
   "outputs": [],
   "source": [
    "#to save the best model\n",
    "if in_google_colab:\n",
    "    import glob\n",
    "    extract_weights = sorted(glob.glob(\"/content/mask_rcnn_envir/maskrcnn_config*/*\"))[-1]\n",
    "\n",
    "    #!mv {extract_weights} ./custom_mask_rcnn_weights.h5 #Uncomment to save the custom trained Mask RCNN weights\n",
    "    #!mv {extract_weights} /content/drive/'My Drive'/custom_mask_rcnn_weights.h5 #Uncomment to save the custom trained Mask RCNN weights"
   ]
  },
  {
   "cell_type": "code",
   "execution_count": null,
   "metadata": {
    "colab": {
     "base_uri": "https://localhost:8080/",
     "height": 34
    },
    "colab_type": "code",
    "executionInfo": {
     "elapsed": 682,
     "status": "ok",
     "timestamp": 1587281899239,
     "user": {
      "displayName": "David Yam",
      "photoUrl": "",
      "userId": "17421691779838404913"
     },
     "user_tz": -480
    },
    "id": "yBVWMboBO5oG",
    "outputId": "6f756e88-9c1e-4da1-e50c-56dd3d3f956a"
   },
   "outputs": [],
   "source": [
    "# To keep it alive in colab if you're AFK\n",
    "\"\"\"\n",
    "# Ctrl + Shift + i\n",
    "# Does a button click every every 5mins, copy this into your developer console\n",
    "\n",
    "function ClickConnect(){\n",
    "console.log(\"Working\"); \n",
    "document.querySelector(\"colab-toolbar-button\").click() \n",
    "}\n",
    "setInterval(ClickConnect, 300000) \n",
    "\"\"\"\n",
    "print()"
   ]
  },
  {
   "cell_type": "markdown",
   "metadata": {
    "colab_type": "text",
    "id": "wqwz6NPtO5oH"
   },
   "source": [
    "# Do evaluation on Validation Dataset"
   ]
  },
  {
   "cell_type": "code",
   "execution_count": null,
   "metadata": {
    "colab": {},
    "colab_type": "code",
    "id": "OCOkN1D8O5oI"
   },
   "outputs": [],
   "source": [
    "class myMaskRCNNInferenceConfig(Config):\n",
    "    NAME = 'MaskRCNN_inference_config'\n",
    "    GPU_COUNT = 1\n",
    "    IMAGES_PER_GPU = 1\n",
    "\n",
    "inference_config = myMaskRCNNConfig()"
   ]
  },
  {
   "cell_type": "code",
   "execution_count": null,
   "metadata": {
    "colab": {},
    "colab_type": "code",
    "id": "ojBwf-LZO5oK"
   },
   "outputs": [],
   "source": [
    "model_path = './custom_mask_rcnn_weights.h5'"
   ]
  },
  {
   "cell_type": "code",
   "execution_count": null,
   "metadata": {
    "colab": {
     "base_uri": "https://localhost:8080/",
     "height": 136
    },
    "colab_type": "code",
    "executionInfo": {
     "elapsed": 22703,
     "status": "ok",
     "timestamp": 1587281933639,
     "user": {
      "displayName": "David Yam",
      "photoUrl": "",
      "userId": "17421691779838404913"
     },
     "user_tz": -480
    },
    "id": "Sgg8Lge7O5oL",
    "outputId": "d9d1ebd5-0114-4b35-8461-a3dd4febba5f"
   },
   "outputs": [],
   "source": [
    "model_inference = MaskRCNN(mode='inference', model_dir='./', config=inference_config)\n",
    "\n",
    "model_inference.load_weights(model_path, by_name=True)\n",
    "\n",
    "class_names = ['BG', 'Dress', 'Suit', 'Jeans']"
   ]
  },
  {
   "cell_type": "code",
   "execution_count": null,
   "metadata": {
    "colab": {
     "base_uri": "https://localhost:8080/",
     "height": 551
    },
    "colab_type": "code",
    "executionInfo": {
     "elapsed": 1458,
     "status": "ok",
     "timestamp": 1587281937702,
     "user": {
      "displayName": "David Yam",
      "photoUrl": "",
      "userId": "17421691779838404913"
     },
     "user_tz": -480
    },
    "id": "xG9nOxImO5oQ",
    "outputId": "4dd341ff-d1d0-4b05-83d2-5c3e7ae1158c"
   },
   "outputs": [],
   "source": [
    "image_id = random.choice(dataset_val.image_ids)\n",
    "original_image, image_meta, gt_class_id, gt_bbox, gt_mask = load_image_gt(dataset_val, inference_config, image_id, use_mini_mask=False)\n",
    "\n",
    "log(\"original_image\", original_image)\n",
    "log(\"image_meta\", image_meta)\n",
    "log(\"gt_class_id\", gt_class_id)\n",
    "log(\"gt_bbox\", gt_bbox)\n",
    "log(\"gt_mask\", gt_mask)\n",
    "\n",
    "# Display the Ground Truth Mask on the Image\n",
    "display_instances(original_image, gt_bbox, gt_mask, gt_class_id, dataset_train.class_names, figsize=(8, 8))"
   ]
  },
  {
   "cell_type": "code",
   "execution_count": null,
   "metadata": {
    "colab": {
     "base_uri": "https://localhost:8080/",
     "height": 551
    },
    "colab_type": "code",
    "executionInfo": {
     "elapsed": 6182,
     "status": "ok",
     "timestamp": 1587281943048,
     "user": {
      "displayName": "David Yam",
      "photoUrl": "",
      "userId": "17421691779838404913"
     },
     "user_tz": -480
    },
    "id": "v-PohKk5O5oT",
    "outputId": "4e913aa0-5c5e-4526-f17e-f120d7ecfa34"
   },
   "outputs": [],
   "source": [
    "results = model_inference.predict([original_image], verbose=1)\n",
    "\n",
    "r = results[0]\n",
    "\n",
    "# Display the Predicted Mask on the Image\n",
    "display_instances(original_image, r['rois'], r['masks'], r['class_ids'], dataset_val.class_names, r['scores'], figsize=(8, 8))"
   ]
  },
  {
   "cell_type": "code",
   "execution_count": null,
   "metadata": {
    "colab": {
     "base_uri": "https://localhost:8080/",
     "height": 34
    },
    "colab_type": "code",
    "executionInfo": {
     "elapsed": 7653,
     "status": "ok",
     "timestamp": 1587281955267,
     "user": {
      "displayName": "David Yam",
      "photoUrl": "",
      "userId": "17421691779838404913"
     },
     "user_tz": -480
    },
    "id": "NetEjw8iO5oV",
    "outputId": "51c8b11c-f317-4761-fc35-f3a2e000bab5"
   },
   "outputs": [],
   "source": [
    "image_ids = dataset_val.image_ids\n",
    "APs = []\n",
    "for image_id in image_ids:\n",
    "    # Load image and ground truth data\n",
    "    image, image_meta, gt_class_id, gt_bbox, gt_mask = load_image_gt(dataset_val, inference_config, image_id, use_mini_mask=False)\n",
    "    molded_images = np.expand_dims(mold_image(image, inference_config), 0)\n",
    "    # Run object detection\n",
    "    results = model_inference.predict([image], verbose=0)\n",
    "    r = results[0]\n",
    "    # Compute AP\n",
    "    AP, precisions, recalls, overlaps = compute_ap(gt_bbox, gt_class_id, gt_mask, r[\"rois\"], r[\"class_ids\"], r[\"scores\"], r['masks'])\n",
    "    APs.append(AP)\n",
    "    \n",
    "print(\"mAP: \", np.mean(APs))"
   ]
  },
  {
   "cell_type": "markdown",
   "metadata": {
    "colab_type": "text",
    "id": "nMC64xDMO5oX"
   },
   "source": [
    "# Detection on Scoring Dataset"
   ]
  },
  {
   "cell_type": "code",
   "execution_count": null,
   "metadata": {
    "colab": {},
    "colab_type": "code",
    "id": "pk_uVS28O5oX"
   },
   "outputs": [],
   "source": [
    "scoring_base_filepath = './test/'"
   ]
  },
  {
   "cell_type": "code",
   "execution_count": null,
   "metadata": {
    "colab": {
     "base_uri": "https://localhost:8080/",
     "height": 451
    },
    "colab_type": "code",
    "executionInfo": {
     "elapsed": 7203,
     "status": "ok",
     "timestamp": 1587281975453,
     "user": {
      "displayName": "David Yam",
      "photoUrl": "",
      "userId": "17421691779838404913"
     },
     "user_tz": -480
    },
    "id": "2IoXEI-ZO5oY",
    "outputId": "26a5c013-5215-4975-c5d5-3aa8c05b60b6"
   },
   "outputs": [],
   "source": [
    "test_image1 = cv2.cvtColor(cv2.imread(scoring_base_filepath + 'suit1.jpg'), cv2.COLOR_BGR2RGB)\n",
    "results = model_inference.predict([test_image1], verbose=1)\n",
    "\n",
    "r = results[0]\n",
    "display_instances(test_image1, r['rois'], r['masks'], r['class_ids'], dataset_val.class_names, r['scores'], figsize=(8, 8))"
   ]
  },
  {
   "cell_type": "code",
   "execution_count": null,
   "metadata": {
    "colab": {
     "base_uri": "https://localhost:8080/",
     "height": 451
    },
    "colab_type": "code",
    "executionInfo": {
     "elapsed": 4098,
     "status": "ok",
     "timestamp": 1587281980506,
     "user": {
      "displayName": "David Yam",
      "photoUrl": "",
      "userId": "17421691779838404913"
     },
     "user_tz": -480
    },
    "id": "ZdKe72VUO5ob",
    "outputId": "5e7960b7-d5df-44a3-b65d-ec6d88a121a6"
   },
   "outputs": [],
   "source": [
    "test_image2 = cv2.cvtColor(cv2.imread(scoring_base_filepath + 'suit2.jpg'), cv2.COLOR_BGR2RGB)\n",
    "results = model_inference.predict([test_image2], verbose=1)\n",
    "\n",
    "r = results[0]\n",
    "display_instances(test_image2, r['rois'], r['masks'], r['class_ids'], dataset_val.class_names, r['scores'], figsize=(8, 8))"
   ]
  },
  {
   "cell_type": "code",
   "execution_count": null,
   "metadata": {
    "colab": {
     "base_uri": "https://localhost:8080/",
     "height": 551
    },
    "colab_type": "code",
    "executionInfo": {
     "elapsed": 1960,
     "status": "ok",
     "timestamp": 1587281982235,
     "user": {
      "displayName": "David Yam",
      "photoUrl": "",
      "userId": "17421691779838404913"
     },
     "user_tz": -480
    },
    "id": "sIARKcjaO5od",
    "outputId": "f2fb2718-f288-469b-a372-e71f3e40a213"
   },
   "outputs": [],
   "source": [
    "test_image3 = cv2.cvtColor(cv2.imread(scoring_base_filepath + 'dress1.jpg'), cv2.COLOR_BGR2RGB)\n",
    "results = model_inference.predict([test_image3], verbose=1)\n",
    "\n",
    "r = results[0]\n",
    "display_instances(test_image3, r['rois'], r['masks'], r['class_ids'], dataset_val.class_names, r['scores'], figsize=(8, 8))"
   ]
  },
  {
   "cell_type": "code",
   "execution_count": null,
   "metadata": {
    "colab": {
     "base_uri": "https://localhost:8080/",
     "height": 422
    },
    "colab_type": "code",
    "executionInfo": {
     "elapsed": 2907,
     "status": "ok",
     "timestamp": 1587281983379,
     "user": {
      "displayName": "David Yam",
      "photoUrl": "",
      "userId": "17421691779838404913"
     },
     "user_tz": -480
    },
    "id": "OYXwid4MO5oe",
    "outputId": "8e7f4420-86a0-4147-f849-0daa59fb14b8"
   },
   "outputs": [],
   "source": [
    "test_image4 = cv2.cvtColor(cv2.imread(scoring_base_filepath + 'dress2.jpg'), cv2.COLOR_BGR2RGB)\n",
    "results = model_inference.predict([test_image4], verbose=1)\n",
    "\n",
    "r = results[0]\n",
    "display_instances(test_image4, r['rois'], r['masks'], r['class_ids'], dataset_val.class_names, r['scores'], figsize=(8, 8))"
   ]
  },
  {
   "cell_type": "code",
   "execution_count": null,
   "metadata": {
    "colab": {
     "base_uri": "https://localhost:8080/",
     "height": 422
    },
    "colab_type": "code",
    "executionInfo": {
     "elapsed": 2607,
     "status": "ok",
     "timestamp": 1587281983379,
     "user": {
      "displayName": "David Yam",
      "photoUrl": "",
      "userId": "17421691779838404913"
     },
     "user_tz": -480
    },
    "id": "GxZUR1DaO5og",
    "outputId": "eebf0504-73d7-4713-9a1d-cf99d72667b6"
   },
   "outputs": [],
   "source": [
    "test_image5 = cv2.cvtColor(cv2.imread(scoring_base_filepath + 'jeans.jpg'), cv2.COLOR_BGR2RGB)\n",
    "results = model_inference.predict([test_image5], verbose=1)\n",
    "\n",
    "r = results[0]\n",
    "display_instances(test_image5, r['rois'], r['masks'], r['class_ids'], dataset_val.class_names, r['scores'], figsize=(8, 8))"
   ]
  },
  {
   "cell_type": "code",
   "execution_count": null,
   "metadata": {
    "colab": {},
    "colab_type": "code",
    "id": "TFhbq_QlYOz1"
   },
   "outputs": [],
   "source": []
  }
 ],
 "metadata": {
  "accelerator": "GPU",
  "colab": {
   "collapsed_sections": [],
   "name": "mask_rcnn_main.ipynb",
   "provenance": [],
   "toc_visible": true
  },
  "kernelspec": {
   "display_name": "Python 3",
   "language": "python",
   "name": "python3"
  },
  "language_info": {
   "codemirror_mode": {
    "name": "ipython",
    "version": 3
   },
   "file_extension": ".py",
   "mimetype": "text/x-python",
   "name": "python",
   "nbconvert_exporter": "python",
   "pygments_lexer": "ipython3",
   "version": "3.6.10"
  },
  "varInspector": {
   "cols": {
    "lenName": 16,
    "lenType": 16,
    "lenVar": 40
   },
   "kernels_config": {
    "python": {
     "delete_cmd_postfix": "",
     "delete_cmd_prefix": "del ",
     "library": "var_list.py",
     "varRefreshCmd": "print(var_dic_list())"
    },
    "r": {
     "delete_cmd_postfix": ") ",
     "delete_cmd_prefix": "rm(",
     "library": "var_list.r",
     "varRefreshCmd": "cat(var_dic_list()) "
    }
   },
   "types_to_exclude": [
    "module",
    "function",
    "builtin_function_or_method",
    "instance",
    "_Feature"
   ],
   "window_display": false
  }
 },
 "nbformat": 4,
 "nbformat_minor": 1
}
